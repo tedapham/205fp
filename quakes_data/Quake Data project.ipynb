{
 "cells": [
  {
   "cell_type": "code",
   "execution_count": 1,
   "metadata": {
    "collapsed": true
   },
   "outputs": [],
   "source": [
    "import pandas as pd"
   ]
  },
  {
   "cell_type": "code",
   "execution_count": 2,
   "metadata": {
    "collapsed": true
   },
   "outputs": [],
   "source": [
    "df = pd.read_csv('quake_data.csv')"
   ]
  },
  {
   "cell_type": "code",
   "execution_count": 3,
   "metadata": {
    "collapsed": false
   },
   "outputs": [
    {
     "data": {
      "text/html": [
       "<div>\n",
       "<table border=\"1\" class=\"dataframe\">\n",
       "  <thead>\n",
       "    <tr style=\"text-align: right;\">\n",
       "      <th></th>\n",
       "      <th>id</th>\n",
       "      <th>time</th>\n",
       "      <th>lat</th>\n",
       "      <th>lon</th>\n",
       "      <th>depth</th>\n",
       "      <th>mag</th>\n",
       "      <th>event-type</th>\n",
       "    </tr>\n",
       "  </thead>\n",
       "  <tbody>\n",
       "    <tr>\n",
       "      <th>0</th>\n",
       "      <td>nc71913296</td>\n",
       "      <td>2013-01-01T00:29:01.520</td>\n",
       "      <td>38.7793</td>\n",
       "      <td>-122.7270</td>\n",
       "      <td>1.9</td>\n",
       "      <td>0.42</td>\n",
       "      <td>earthquake</td>\n",
       "    </tr>\n",
       "    <tr>\n",
       "      <th>1</th>\n",
       "      <td>nc71913301</td>\n",
       "      <td>2013-01-01T00:33:22.300</td>\n",
       "      <td>37.5633</td>\n",
       "      <td>-118.8237</td>\n",
       "      <td>8.0</td>\n",
       "      <td>0.42</td>\n",
       "      <td>earthquake</td>\n",
       "    </tr>\n",
       "    <tr>\n",
       "      <th>2</th>\n",
       "      <td>ci15269305</td>\n",
       "      <td>2013-01-01T00:55:30.860</td>\n",
       "      <td>33.9728</td>\n",
       "      <td>-116.8068</td>\n",
       "      <td>12.3</td>\n",
       "      <td>0.75</td>\n",
       "      <td>earthquake</td>\n",
       "    </tr>\n",
       "    <tr>\n",
       "      <th>3</th>\n",
       "      <td>uw60487277</td>\n",
       "      <td>2013-01-01T01:08:11.480</td>\n",
       "      <td>43.7960</td>\n",
       "      <td>-121.3062</td>\n",
       "      <td>-0.4</td>\n",
       "      <td>1.19</td>\n",
       "      <td>earthquake</td>\n",
       "    </tr>\n",
       "    <tr>\n",
       "      <th>4</th>\n",
       "      <td>ci15269313</td>\n",
       "      <td>2013-01-01T01:22:48.220</td>\n",
       "      <td>34.9093</td>\n",
       "      <td>-119.5955</td>\n",
       "      <td>8.4</td>\n",
       "      <td>1.61</td>\n",
       "      <td>earthquake</td>\n",
       "    </tr>\n",
       "  </tbody>\n",
       "</table>\n",
       "</div>"
      ],
      "text/plain": [
       "           id                     time      lat       lon  depth   mag  \\\n",
       "0  nc71913296  2013-01-01T00:29:01.520  38.7793 -122.7270    1.9  0.42   \n",
       "1  nc71913301  2013-01-01T00:33:22.300  37.5633 -118.8237    8.0  0.42   \n",
       "2  ci15269305  2013-01-01T00:55:30.860  33.9728 -116.8068   12.3  0.75   \n",
       "3  uw60487277  2013-01-01T01:08:11.480  43.7960 -121.3062   -0.4  1.19   \n",
       "4  ci15269313  2013-01-01T01:22:48.220  34.9093 -119.5955    8.4  1.61   \n",
       "\n",
       "   event-type  \n",
       "0  earthquake  \n",
       "1  earthquake  \n",
       "2  earthquake  \n",
       "3  earthquake  \n",
       "4  earthquake  "
      ]
     },
     "execution_count": 3,
     "metadata": {},
     "output_type": "execute_result"
    }
   ],
   "source": [
    "df.head(5)"
   ]
  },
  {
   "cell_type": "code",
   "execution_count": 8,
   "metadata": {
    "collapsed": false
   },
   "outputs": [
    {
     "data": {
      "text/plain": [
       "2139515"
      ]
     },
     "execution_count": 8,
     "metadata": {},
     "output_type": "execute_result"
    }
   ],
   "source": [
    "df.size"
   ]
  },
  {
   "cell_type": "code",
   "execution_count": null,
   "metadata": {
    "collapsed": true
   },
   "outputs": [],
   "source": []
  }
 ],
 "metadata": {
  "anaconda-cloud": {},
  "kernelspec": {
   "display_name": "Python [conda root]",
   "language": "python",
   "name": "conda-root-py"
  },
  "language_info": {
   "codemirror_mode": {
    "name": "ipython",
    "version": 3
   },
   "file_extension": ".py",
   "mimetype": "text/x-python",
   "name": "python",
   "nbconvert_exporter": "python",
   "pygments_lexer": "ipython3",
   "version": "3.5.2"
  }
 },
 "nbformat": 4,
 "nbformat_minor": 1
}
